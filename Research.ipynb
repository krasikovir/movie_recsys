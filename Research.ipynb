{
 "cells": [
  {
   "cell_type": "markdown",
   "id": "f4d786fb",
   "metadata": {},
   "source": [
    "# Introduction"
   ]
  },
  {
   "cell_type": "markdown",
   "id": "986d47cb",
   "metadata": {},
   "source": [
    "Выделяют два подхода к построению рекомендательных систем. Это collaborative filtering и content-based. Для первого подхода я продемонстрирую реализацию алгоритмов основанных на KNN и Matrix Factorization. Для второго подхода будет использована технология векторизации содержимого TF-IDF. Ранжирование буду производить на основе так называемого косинусного расстояния. \n",
    "\n",
    "Качество всех алгоритмов я оценю на \"полных\" данных, которые выделю из имеющихся. Также будет попытка сравнения этих алгоритмов."
   ]
  },
  {
   "cell_type": "markdown",
   "id": "1cbf99f3",
   "metadata": {},
   "source": [
    "# Data analysis"
   ]
  },
  {
   "cell_type": "code",
   "execution_count": 32,
   "id": "240fbc00",
   "metadata": {},
   "outputs": [],
   "source": [
    "#required modules\n",
    "import pandas as pd\n",
    "import numpy as np\n",
    "\n",
    "# reading data\n",
    "links = pd.read_csv('data/links.csv')\n",
    "movies = pd.read_csv('data/movies.csv')\n",
    "ratings = pd.read_csv('data/ratings.csv')\n",
    "tags = pd.read_csv('data/tags.csv')"
   ]
  },
  {
   "cell_type": "markdown",
   "id": "df44a773",
   "metadata": {},
   "source": [
    "Ниже представлены данные:"
   ]
  },
  {
   "cell_type": "code",
   "execution_count": 33,
   "id": "87c6a5e5",
   "metadata": {},
   "outputs": [
    {
     "data": {
      "text/html": [
       "<div>\n",
       "<style scoped>\n",
       "    .dataframe tbody tr th:only-of-type {\n",
       "        vertical-align: middle;\n",
       "    }\n",
       "\n",
       "    .dataframe tbody tr th {\n",
       "        vertical-align: top;\n",
       "    }\n",
       "\n",
       "    .dataframe thead th {\n",
       "        text-align: right;\n",
       "    }\n",
       "</style>\n",
       "<table border=\"1\" class=\"dataframe\">\n",
       "  <thead>\n",
       "    <tr style=\"text-align: right;\">\n",
       "      <th></th>\n",
       "      <th>movieId</th>\n",
       "      <th>imdbId</th>\n",
       "      <th>tmdbId</th>\n",
       "    </tr>\n",
       "  </thead>\n",
       "  <tbody>\n",
       "    <tr>\n",
       "      <th>0</th>\n",
       "      <td>1</td>\n",
       "      <td>114709</td>\n",
       "      <td>862.0</td>\n",
       "    </tr>\n",
       "    <tr>\n",
       "      <th>1</th>\n",
       "      <td>2</td>\n",
       "      <td>113497</td>\n",
       "      <td>8844.0</td>\n",
       "    </tr>\n",
       "  </tbody>\n",
       "</table>\n",
       "</div>"
      ],
      "text/plain": [
       "   movieId  imdbId  tmdbId\n",
       "0        1  114709   862.0\n",
       "1        2  113497  8844.0"
      ]
     },
     "execution_count": 33,
     "metadata": {},
     "output_type": "execute_result"
    }
   ],
   "source": [
    "links.head(2)"
   ]
  },
  {
   "cell_type": "code",
   "execution_count": 34,
   "id": "3260984b",
   "metadata": {},
   "outputs": [
    {
     "data": {
      "text/html": [
       "<div>\n",
       "<style scoped>\n",
       "    .dataframe tbody tr th:only-of-type {\n",
       "        vertical-align: middle;\n",
       "    }\n",
       "\n",
       "    .dataframe tbody tr th {\n",
       "        vertical-align: top;\n",
       "    }\n",
       "\n",
       "    .dataframe thead th {\n",
       "        text-align: right;\n",
       "    }\n",
       "</style>\n",
       "<table border=\"1\" class=\"dataframe\">\n",
       "  <thead>\n",
       "    <tr style=\"text-align: right;\">\n",
       "      <th></th>\n",
       "      <th>movieId</th>\n",
       "      <th>title</th>\n",
       "      <th>genres</th>\n",
       "    </tr>\n",
       "  </thead>\n",
       "  <tbody>\n",
       "    <tr>\n",
       "      <th>0</th>\n",
       "      <td>1</td>\n",
       "      <td>Toy Story (1995)</td>\n",
       "      <td>Adventure|Animation|Children|Comedy|Fantasy</td>\n",
       "    </tr>\n",
       "    <tr>\n",
       "      <th>1</th>\n",
       "      <td>2</td>\n",
       "      <td>Jumanji (1995)</td>\n",
       "      <td>Adventure|Children|Fantasy</td>\n",
       "    </tr>\n",
       "  </tbody>\n",
       "</table>\n",
       "</div>"
      ],
      "text/plain": [
       "   movieId             title                                       genres\n",
       "0        1  Toy Story (1995)  Adventure|Animation|Children|Comedy|Fantasy\n",
       "1        2    Jumanji (1995)                   Adventure|Children|Fantasy"
      ]
     },
     "execution_count": 34,
     "metadata": {},
     "output_type": "execute_result"
    }
   ],
   "source": [
    "movies.head(2)"
   ]
  },
  {
   "cell_type": "code",
   "execution_count": 35,
   "id": "48dcd829",
   "metadata": {},
   "outputs": [
    {
     "data": {
      "text/html": [
       "<div>\n",
       "<style scoped>\n",
       "    .dataframe tbody tr th:only-of-type {\n",
       "        vertical-align: middle;\n",
       "    }\n",
       "\n",
       "    .dataframe tbody tr th {\n",
       "        vertical-align: top;\n",
       "    }\n",
       "\n",
       "    .dataframe thead th {\n",
       "        text-align: right;\n",
       "    }\n",
       "</style>\n",
       "<table border=\"1\" class=\"dataframe\">\n",
       "  <thead>\n",
       "    <tr style=\"text-align: right;\">\n",
       "      <th></th>\n",
       "      <th>userId</th>\n",
       "      <th>movieId</th>\n",
       "      <th>rating</th>\n",
       "      <th>timestamp</th>\n",
       "    </tr>\n",
       "  </thead>\n",
       "  <tbody>\n",
       "    <tr>\n",
       "      <th>0</th>\n",
       "      <td>1</td>\n",
       "      <td>1</td>\n",
       "      <td>4.0</td>\n",
       "      <td>964982703</td>\n",
       "    </tr>\n",
       "    <tr>\n",
       "      <th>1</th>\n",
       "      <td>1</td>\n",
       "      <td>3</td>\n",
       "      <td>4.0</td>\n",
       "      <td>964981247</td>\n",
       "    </tr>\n",
       "  </tbody>\n",
       "</table>\n",
       "</div>"
      ],
      "text/plain": [
       "   userId  movieId  rating  timestamp\n",
       "0       1        1     4.0  964982703\n",
       "1       1        3     4.0  964981247"
      ]
     },
     "execution_count": 35,
     "metadata": {},
     "output_type": "execute_result"
    }
   ],
   "source": [
    "ratings.head(2)"
   ]
  },
  {
   "cell_type": "code",
   "execution_count": 36,
   "id": "88bc86fe",
   "metadata": {},
   "outputs": [
    {
     "data": {
      "text/plain": [
       "0        60756\n",
       "1        60756\n",
       "2        60756\n",
       "3        89774\n",
       "4        89774\n",
       "         ...  \n",
       "3678      7382\n",
       "3679      7936\n",
       "3680      3265\n",
       "3681      3265\n",
       "3682    168248\n",
       "Name: movieId, Length: 3683, dtype: int64"
      ]
     },
     "execution_count": 36,
     "metadata": {},
     "output_type": "execute_result"
    }
   ],
   "source": [
    "tags.movieId"
   ]
  },
  {
   "cell_type": "code",
   "execution_count": 37,
   "id": "3df1599a",
   "metadata": {},
   "outputs": [
    {
     "data": {
      "text/html": [
       "<div>\n",
       "<style scoped>\n",
       "    .dataframe tbody tr th:only-of-type {\n",
       "        vertical-align: middle;\n",
       "    }\n",
       "\n",
       "    .dataframe tbody tr th {\n",
       "        vertical-align: top;\n",
       "    }\n",
       "\n",
       "    .dataframe thead th {\n",
       "        text-align: right;\n",
       "    }\n",
       "</style>\n",
       "<table border=\"1\" class=\"dataframe\">\n",
       "  <thead>\n",
       "    <tr style=\"text-align: right;\">\n",
       "      <th></th>\n",
       "      <th>userId</th>\n",
       "      <th>movieId</th>\n",
       "      <th>tag</th>\n",
       "      <th>timestamp</th>\n",
       "    </tr>\n",
       "  </thead>\n",
       "  <tbody>\n",
       "    <tr>\n",
       "      <th>0</th>\n",
       "      <td>2</td>\n",
       "      <td>60756</td>\n",
       "      <td>funny</td>\n",
       "      <td>1445714994</td>\n",
       "    </tr>\n",
       "    <tr>\n",
       "      <th>1</th>\n",
       "      <td>2</td>\n",
       "      <td>60756</td>\n",
       "      <td>Highly quotable</td>\n",
       "      <td>1445714996</td>\n",
       "    </tr>\n",
       "  </tbody>\n",
       "</table>\n",
       "</div>"
      ],
      "text/plain": [
       "   userId  movieId              tag   timestamp\n",
       "0       2    60756            funny  1445714994\n",
       "1       2    60756  Highly quotable  1445714996"
      ]
     },
     "execution_count": 37,
     "metadata": {},
     "output_type": "execute_result"
    }
   ],
   "source": [
    "tags.head(2)"
   ]
  },
  {
   "cell_type": "markdown",
   "id": "4ce1d40d",
   "metadata": {},
   "source": [
    "При желании можно использовать информацию из links, чтобы парсить контент со странички фильма и использовать это в content-based подходе. В силу ограниченности времени, этот идея реализована не будет. От timestamp'ов я тоже избавлюсь:"
   ]
  },
  {
   "cell_type": "code",
   "execution_count": 38,
   "id": "07b86980",
   "metadata": {},
   "outputs": [],
   "source": [
    "ratings.drop(columns='timestamp', inplace = True)\n",
    "tags.drop(columns='timestamp', inplace = True)"
   ]
  },
  {
   "cell_type": "markdown",
   "id": "b2f8cad2",
   "metadata": {},
   "source": [
    "# Collaborative filtering"
   ]
  },
  {
   "cell_type": "markdown",
   "id": "bc008c07",
   "metadata": {},
   "source": [
    "## Comaprison idea"
   ]
  },
  {
   "cell_type": "markdown",
   "id": "5a0cd046",
   "metadata": {},
   "source": [
    "Оба заявленных мной подхода (KNN и Matrix Factorization) используют матричное предстваление данных, \"дырки\" в которых они и пытаются заполнить (\"дырки\" -- это как раз те самые рекомендации, т.е. в нашем случае прогнозируемые оценки для фильмов, которые юзер не смотрел). \n",
    "\n",
    "Для тестирования обоих алгоритмов, нужна полностью заполенная матрица -- т.е. матрица, где каждый фильм посмотрел каждый юзер. Далее я искуственно наделаю в ней пропусков и посмотрю, как оба алгоритма будут справляться с их заполнениями. В качестве метрики качества будем использовать rmse. Для работы на этом этапе пригодится только датасет ratings.\n",
    "\n",
    "Откуда я возьму матрицу с полными данными? Ниоткуда. Из имеющейся матрицы я выкину набиолее неактивных пользователей, которые поставили меньше всего оценок. Также я избавлюсь от самых непросмотренных фильмов. Как только меня устроит результат, отсутствующие значения я заполню средним по всей матрице."
   ]
  },
  {
   "cell_type": "code",
   "execution_count": 39,
   "id": "49a591da",
   "metadata": {},
   "outputs": [],
   "source": [
    "# matrix (datframe that looks like matrix) creation\n",
    "m_true = ratings.pivot(index='userId',columns='movieId', values='rating')"
   ]
  },
  {
   "cell_type": "code",
   "execution_count": 9,
   "id": "6f36abe6",
   "metadata": {},
   "outputs": [
    {
     "data": {
      "text/html": [
       "<div>\n",
       "<style scoped>\n",
       "    .dataframe tbody tr th:only-of-type {\n",
       "        vertical-align: middle;\n",
       "    }\n",
       "\n",
       "    .dataframe tbody tr th {\n",
       "        vertical-align: top;\n",
       "    }\n",
       "\n",
       "    .dataframe thead th {\n",
       "        text-align: right;\n",
       "    }\n",
       "</style>\n",
       "<table border=\"1\" class=\"dataframe\">\n",
       "  <thead>\n",
       "    <tr style=\"text-align: right;\">\n",
       "      <th>movieId</th>\n",
       "      <th>1</th>\n",
       "      <th>2</th>\n",
       "      <th>3</th>\n",
       "      <th>4</th>\n",
       "      <th>5</th>\n",
       "      <th>6</th>\n",
       "      <th>7</th>\n",
       "      <th>8</th>\n",
       "      <th>9</th>\n",
       "      <th>10</th>\n",
       "    </tr>\n",
       "    <tr>\n",
       "      <th>userId</th>\n",
       "      <th></th>\n",
       "      <th></th>\n",
       "      <th></th>\n",
       "      <th></th>\n",
       "      <th></th>\n",
       "      <th></th>\n",
       "      <th></th>\n",
       "      <th></th>\n",
       "      <th></th>\n",
       "      <th></th>\n",
       "    </tr>\n",
       "  </thead>\n",
       "  <tbody>\n",
       "    <tr>\n",
       "      <th>1</th>\n",
       "      <td>4.0</td>\n",
       "      <td>NaN</td>\n",
       "      <td>4.0</td>\n",
       "      <td>NaN</td>\n",
       "      <td>NaN</td>\n",
       "      <td>4.0</td>\n",
       "      <td>NaN</td>\n",
       "      <td>NaN</td>\n",
       "      <td>NaN</td>\n",
       "      <td>NaN</td>\n",
       "    </tr>\n",
       "    <tr>\n",
       "      <th>2</th>\n",
       "      <td>NaN</td>\n",
       "      <td>NaN</td>\n",
       "      <td>NaN</td>\n",
       "      <td>NaN</td>\n",
       "      <td>NaN</td>\n",
       "      <td>NaN</td>\n",
       "      <td>NaN</td>\n",
       "      <td>NaN</td>\n",
       "      <td>NaN</td>\n",
       "      <td>NaN</td>\n",
       "    </tr>\n",
       "    <tr>\n",
       "      <th>3</th>\n",
       "      <td>NaN</td>\n",
       "      <td>NaN</td>\n",
       "      <td>NaN</td>\n",
       "      <td>NaN</td>\n",
       "      <td>NaN</td>\n",
       "      <td>NaN</td>\n",
       "      <td>NaN</td>\n",
       "      <td>NaN</td>\n",
       "      <td>NaN</td>\n",
       "      <td>NaN</td>\n",
       "    </tr>\n",
       "    <tr>\n",
       "      <th>4</th>\n",
       "      <td>NaN</td>\n",
       "      <td>NaN</td>\n",
       "      <td>NaN</td>\n",
       "      <td>NaN</td>\n",
       "      <td>NaN</td>\n",
       "      <td>NaN</td>\n",
       "      <td>NaN</td>\n",
       "      <td>NaN</td>\n",
       "      <td>NaN</td>\n",
       "      <td>NaN</td>\n",
       "    </tr>\n",
       "    <tr>\n",
       "      <th>5</th>\n",
       "      <td>4.0</td>\n",
       "      <td>NaN</td>\n",
       "      <td>NaN</td>\n",
       "      <td>NaN</td>\n",
       "      <td>NaN</td>\n",
       "      <td>NaN</td>\n",
       "      <td>NaN</td>\n",
       "      <td>NaN</td>\n",
       "      <td>NaN</td>\n",
       "      <td>NaN</td>\n",
       "    </tr>\n",
       "    <tr>\n",
       "      <th>6</th>\n",
       "      <td>NaN</td>\n",
       "      <td>4.0</td>\n",
       "      <td>5.0</td>\n",
       "      <td>3.0</td>\n",
       "      <td>5.0</td>\n",
       "      <td>4.0</td>\n",
       "      <td>4.0</td>\n",
       "      <td>3.0</td>\n",
       "      <td>NaN</td>\n",
       "      <td>3.0</td>\n",
       "    </tr>\n",
       "    <tr>\n",
       "      <th>7</th>\n",
       "      <td>4.5</td>\n",
       "      <td>NaN</td>\n",
       "      <td>NaN</td>\n",
       "      <td>NaN</td>\n",
       "      <td>NaN</td>\n",
       "      <td>NaN</td>\n",
       "      <td>NaN</td>\n",
       "      <td>NaN</td>\n",
       "      <td>NaN</td>\n",
       "      <td>NaN</td>\n",
       "    </tr>\n",
       "    <tr>\n",
       "      <th>8</th>\n",
       "      <td>NaN</td>\n",
       "      <td>4.0</td>\n",
       "      <td>NaN</td>\n",
       "      <td>NaN</td>\n",
       "      <td>NaN</td>\n",
       "      <td>NaN</td>\n",
       "      <td>NaN</td>\n",
       "      <td>NaN</td>\n",
       "      <td>NaN</td>\n",
       "      <td>2.0</td>\n",
       "    </tr>\n",
       "    <tr>\n",
       "      <th>9</th>\n",
       "      <td>NaN</td>\n",
       "      <td>NaN</td>\n",
       "      <td>NaN</td>\n",
       "      <td>NaN</td>\n",
       "      <td>NaN</td>\n",
       "      <td>NaN</td>\n",
       "      <td>NaN</td>\n",
       "      <td>NaN</td>\n",
       "      <td>NaN</td>\n",
       "      <td>NaN</td>\n",
       "    </tr>\n",
       "    <tr>\n",
       "      <th>10</th>\n",
       "      <td>NaN</td>\n",
       "      <td>NaN</td>\n",
       "      <td>NaN</td>\n",
       "      <td>NaN</td>\n",
       "      <td>NaN</td>\n",
       "      <td>NaN</td>\n",
       "      <td>NaN</td>\n",
       "      <td>NaN</td>\n",
       "      <td>NaN</td>\n",
       "      <td>NaN</td>\n",
       "    </tr>\n",
       "  </tbody>\n",
       "</table>\n",
       "</div>"
      ],
      "text/plain": [
       "movieId   1    2    3    4    5    6    7    8   9    10\n",
       "userId                                                  \n",
       "1        4.0  NaN  4.0  NaN  NaN  4.0  NaN  NaN NaN  NaN\n",
       "2        NaN  NaN  NaN  NaN  NaN  NaN  NaN  NaN NaN  NaN\n",
       "3        NaN  NaN  NaN  NaN  NaN  NaN  NaN  NaN NaN  NaN\n",
       "4        NaN  NaN  NaN  NaN  NaN  NaN  NaN  NaN NaN  NaN\n",
       "5        4.0  NaN  NaN  NaN  NaN  NaN  NaN  NaN NaN  NaN\n",
       "6        NaN  4.0  5.0  3.0  5.0  4.0  4.0  3.0 NaN  3.0\n",
       "7        4.5  NaN  NaN  NaN  NaN  NaN  NaN  NaN NaN  NaN\n",
       "8        NaN  4.0  NaN  NaN  NaN  NaN  NaN  NaN NaN  2.0\n",
       "9        NaN  NaN  NaN  NaN  NaN  NaN  NaN  NaN NaN  NaN\n",
       "10       NaN  NaN  NaN  NaN  NaN  NaN  NaN  NaN NaN  NaN"
      ]
     },
     "execution_count": 9,
     "metadata": {},
     "output_type": "execute_result"
    }
   ],
   "source": [
    "# demonstration\n",
    "m_true.loc[:10,:10]"
   ]
  },
  {
   "cell_type": "markdown",
   "id": "9209660b",
   "metadata": {},
   "source": [
    "Как факт -- nan'ов очень много. Вот доля дырок во всей таблице:"
   ]
  },
  {
   "cell_type": "code",
   "execution_count": 10,
   "id": "d217a074",
   "metadata": {},
   "outputs": [
    {
     "name": "stdout",
     "output_type": "stream",
     "text": [
      "proportion of missing values 0.9830003169443864\n"
     ]
    }
   ],
   "source": [
    "# propotion of missing values\n",
    "print('proportion of missing values', m_true.isna().sum().sum() / (m_true.shape[0]*m_true.shape[1]))"
   ]
  },
  {
   "cell_type": "markdown",
   "id": "0764f9cc",
   "metadata": {},
   "source": [
    "98% дырок.\n",
    "\n",
    "Сейчас я отсортирую по убыванию полные данные. Чем правее колонка (фильм), тем больше пользователей его не видело, чем ниже ряд (пользователь), тем меньше фильмов он оценил. Соритировка будет производится посредством введения колонки с этим признаком. Таким подходом я вычлению 50 самых активных пользователей и 50 самых просматриваемых фильмов стреди них."
   ]
  },
  {
   "cell_type": "code",
   "execution_count": 11,
   "id": "267f1baf",
   "metadata": {},
   "outputs": [],
   "source": [
    "# cutting by users\n",
    "m_true['missing'] = m_true.T.isna().sum()\n",
    "m_true = m_true.sort_values(by=['missing'])[:50].T\n",
    "m_true.drop('missing',axis = 0, inplace = True)\n",
    "\n",
    "# cutting by movies\n",
    "m_true['missing'] = m_true.T.isna().sum()\n",
    "m_true = m_true.sort_values(by=['missing'])[:50].T\n",
    "m_true.drop('missing',axis = 0, inplace = True) "
   ]
  },
  {
   "cell_type": "code",
   "execution_count": 12,
   "id": "8cf64775",
   "metadata": {},
   "outputs": [
    {
     "data": {
      "text/html": [
       "<div>\n",
       "<style scoped>\n",
       "    .dataframe tbody tr th:only-of-type {\n",
       "        vertical-align: middle;\n",
       "    }\n",
       "\n",
       "    .dataframe tbody tr th {\n",
       "        vertical-align: top;\n",
       "    }\n",
       "\n",
       "    .dataframe thead th {\n",
       "        text-align: right;\n",
       "    }\n",
       "</style>\n",
       "<table border=\"1\" class=\"dataframe\">\n",
       "  <thead>\n",
       "    <tr style=\"text-align: right;\">\n",
       "      <th>movieId</th>\n",
       "      <th>2571</th>\n",
       "      <th>260</th>\n",
       "      <th>356</th>\n",
       "      <th>1196</th>\n",
       "      <th>480</th>\n",
       "      <th>1210</th>\n",
       "      <th>1036</th>\n",
       "      <th>1198</th>\n",
       "      <th>780</th>\n",
       "      <th>296</th>\n",
       "    </tr>\n",
       "    <tr>\n",
       "      <th>userId</th>\n",
       "      <th></th>\n",
       "      <th></th>\n",
       "      <th></th>\n",
       "      <th></th>\n",
       "      <th></th>\n",
       "      <th></th>\n",
       "      <th></th>\n",
       "      <th></th>\n",
       "      <th></th>\n",
       "      <th></th>\n",
       "    </tr>\n",
       "  </thead>\n",
       "  <tbody>\n",
       "    <tr>\n",
       "      <th>414</th>\n",
       "      <td>5.0</td>\n",
       "      <td>5.0</td>\n",
       "      <td>5.0</td>\n",
       "      <td>5.0</td>\n",
       "      <td>4.0</td>\n",
       "      <td>5.0</td>\n",
       "      <td>5.0</td>\n",
       "      <td>5.0</td>\n",
       "      <td>4.0</td>\n",
       "      <td>5.0</td>\n",
       "    </tr>\n",
       "    <tr>\n",
       "      <th>599</th>\n",
       "      <td>5.0</td>\n",
       "      <td>5.0</td>\n",
       "      <td>3.5</td>\n",
       "      <td>5.0</td>\n",
       "      <td>4.0</td>\n",
       "      <td>5.0</td>\n",
       "      <td>4.0</td>\n",
       "      <td>3.5</td>\n",
       "      <td>3.5</td>\n",
       "      <td>5.0</td>\n",
       "    </tr>\n",
       "    <tr>\n",
       "      <th>474</th>\n",
       "      <td>4.5</td>\n",
       "      <td>4.0</td>\n",
       "      <td>3.0</td>\n",
       "      <td>5.0</td>\n",
       "      <td>4.5</td>\n",
       "      <td>4.0</td>\n",
       "      <td>3.0</td>\n",
       "      <td>4.0</td>\n",
       "      <td>4.0</td>\n",
       "      <td>4.0</td>\n",
       "    </tr>\n",
       "    <tr>\n",
       "      <th>448</th>\n",
       "      <td>2.0</td>\n",
       "      <td>5.0</td>\n",
       "      <td>3.0</td>\n",
       "      <td>5.0</td>\n",
       "      <td>3.0</td>\n",
       "      <td>5.0</td>\n",
       "      <td>5.0</td>\n",
       "      <td>5.0</td>\n",
       "      <td>3.0</td>\n",
       "      <td>5.0</td>\n",
       "    </tr>\n",
       "    <tr>\n",
       "      <th>274</th>\n",
       "      <td>4.0</td>\n",
       "      <td>3.0</td>\n",
       "      <td>4.5</td>\n",
       "      <td>4.5</td>\n",
       "      <td>3.5</td>\n",
       "      <td>4.0</td>\n",
       "      <td>4.0</td>\n",
       "      <td>4.0</td>\n",
       "      <td>3.5</td>\n",
       "      <td>5.0</td>\n",
       "    </tr>\n",
       "    <tr>\n",
       "      <th>610</th>\n",
       "      <td>5.0</td>\n",
       "      <td>5.0</td>\n",
       "      <td>3.0</td>\n",
       "      <td>5.0</td>\n",
       "      <td>5.0</td>\n",
       "      <td>5.0</td>\n",
       "      <td>5.0</td>\n",
       "      <td>5.0</td>\n",
       "      <td>3.5</td>\n",
       "      <td>5.0</td>\n",
       "    </tr>\n",
       "    <tr>\n",
       "      <th>68</th>\n",
       "      <td>4.5</td>\n",
       "      <td>5.0</td>\n",
       "      <td>3.5</td>\n",
       "      <td>5.0</td>\n",
       "      <td>3.5</td>\n",
       "      <td>5.0</td>\n",
       "      <td>3.0</td>\n",
       "      <td>5.0</td>\n",
       "      <td>4.0</td>\n",
       "      <td>2.0</td>\n",
       "    </tr>\n",
       "    <tr>\n",
       "      <th>380</th>\n",
       "      <td>4.5</td>\n",
       "      <td>5.0</td>\n",
       "      <td>5.0</td>\n",
       "      <td>5.0</td>\n",
       "      <td>5.0</td>\n",
       "      <td>5.0</td>\n",
       "      <td>5.0</td>\n",
       "      <td>5.0</td>\n",
       "      <td>4.0</td>\n",
       "      <td>5.0</td>\n",
       "    </tr>\n",
       "    <tr>\n",
       "      <th>606</th>\n",
       "      <td>5.0</td>\n",
       "      <td>4.5</td>\n",
       "      <td>4.0</td>\n",
       "      <td>4.5</td>\n",
       "      <td>2.5</td>\n",
       "      <td>4.5</td>\n",
       "      <td>NaN</td>\n",
       "      <td>3.5</td>\n",
       "      <td>2.5</td>\n",
       "      <td>5.0</td>\n",
       "    </tr>\n",
       "    <tr>\n",
       "      <th>288</th>\n",
       "      <td>3.0</td>\n",
       "      <td>5.0</td>\n",
       "      <td>5.0</td>\n",
       "      <td>4.5</td>\n",
       "      <td>2.0</td>\n",
       "      <td>4.5</td>\n",
       "      <td>3.0</td>\n",
       "      <td>5.0</td>\n",
       "      <td>1.0</td>\n",
       "      <td>5.0</td>\n",
       "    </tr>\n",
       "  </tbody>\n",
       "</table>\n",
       "</div>"
      ],
      "text/plain": [
       "movieId  2571  260  356  1196  480  1210  1036  1198  780  296\n",
       "userId                                                        \n",
       "414       5.0  5.0  5.0   5.0  4.0   5.0   5.0   5.0  4.0  5.0\n",
       "599       5.0  5.0  3.5   5.0  4.0   5.0   4.0   3.5  3.5  5.0\n",
       "474       4.5  4.0  3.0   5.0  4.5   4.0   3.0   4.0  4.0  4.0\n",
       "448       2.0  5.0  3.0   5.0  3.0   5.0   5.0   5.0  3.0  5.0\n",
       "274       4.0  3.0  4.5   4.5  3.5   4.0   4.0   4.0  3.5  5.0\n",
       "610       5.0  5.0  3.0   5.0  5.0   5.0   5.0   5.0  3.5  5.0\n",
       "68        4.5  5.0  3.5   5.0  3.5   5.0   3.0   5.0  4.0  2.0\n",
       "380       4.5  5.0  5.0   5.0  5.0   5.0   5.0   5.0  4.0  5.0\n",
       "606       5.0  4.5  4.0   4.5  2.5   4.5   NaN   3.5  2.5  5.0\n",
       "288       3.0  5.0  5.0   4.5  2.0   4.5   3.0   5.0  1.0  5.0"
      ]
     },
     "execution_count": 12,
     "metadata": {},
     "output_type": "execute_result"
    }
   ],
   "source": [
    "m_true.iloc[:10,:10]"
   ]
  },
  {
   "cell_type": "markdown",
   "id": "cf0154f2",
   "metadata": {},
   "source": [
    "Видно, что желаемого потихонечку добиваемся. Nan'ы уходят. Датасет получился не слишком большой (50 x 50), но это уже хоть что-нибудь. Ниже я покажу какая часть данных тут отсутствует:"
   ]
  },
  {
   "cell_type": "code",
   "execution_count": 13,
   "id": "6df69583",
   "metadata": {},
   "outputs": [
    {
     "name": "stdout",
     "output_type": "stream",
     "text": [
      "shape (50, 50)\n"
     ]
    }
   ],
   "source": [
    "#shape\n",
    "print('shape', m_true.shape)"
   ]
  },
  {
   "cell_type": "code",
   "execution_count": 14,
   "id": "70628bb7",
   "metadata": {},
   "outputs": [
    {
     "name": "stdout",
     "output_type": "stream",
     "text": [
      "missing values 451\n"
     ]
    }
   ],
   "source": [
    "# missing values\n",
    "print('missing values', m_true.isna().sum().sum())"
   ]
  },
  {
   "cell_type": "code",
   "execution_count": 15,
   "id": "18206047",
   "metadata": {},
   "outputs": [
    {
     "name": "stdout",
     "output_type": "stream",
     "text": [
      "proportion of missing values 0.1804\n"
     ]
    }
   ],
   "source": [
    "#propotion of missing values\n",
    "print('proportion of missing values', m_true.isna().sum().sum() / (m_true.shape[0]*m_true.shape[1]))"
   ]
  },
  {
   "cell_type": "markdown",
   "id": "3abd2745",
   "metadata": {},
   "source": [
    "Короче, отсутствует всего 18% данных, что вполне терпимо. Их я заполню средним значением по своей колонке (нановская ячейка получит среднее по своей колонке) и округлю."
   ]
  },
  {
   "cell_type": "code",
   "execution_count": 16,
   "id": "72cf626d",
   "metadata": {},
   "outputs": [],
   "source": [
    "# filling missing values with its' column mean\n",
    "m_true.fillna(m_true.mean(), inplace = True)"
   ]
  },
  {
   "cell_type": "markdown",
   "id": "0f70e875",
   "metadata": {},
   "source": [
    "Получаем это:"
   ]
  },
  {
   "cell_type": "code",
   "execution_count": 17,
   "id": "d1b5cca5",
   "metadata": {},
   "outputs": [
    {
     "data": {
      "text/html": [
       "<div>\n",
       "<style scoped>\n",
       "    .dataframe tbody tr th:only-of-type {\n",
       "        vertical-align: middle;\n",
       "    }\n",
       "\n",
       "    .dataframe tbody tr th {\n",
       "        vertical-align: top;\n",
       "    }\n",
       "\n",
       "    .dataframe thead th {\n",
       "        text-align: right;\n",
       "    }\n",
       "</style>\n",
       "<table border=\"1\" class=\"dataframe\">\n",
       "  <thead>\n",
       "    <tr style=\"text-align: right;\">\n",
       "      <th>movieId</th>\n",
       "      <th>2571</th>\n",
       "      <th>260</th>\n",
       "      <th>356</th>\n",
       "      <th>1196</th>\n",
       "      <th>480</th>\n",
       "      <th>1210</th>\n",
       "      <th>1036</th>\n",
       "      <th>1198</th>\n",
       "      <th>780</th>\n",
       "      <th>296</th>\n",
       "    </tr>\n",
       "    <tr>\n",
       "      <th>userId</th>\n",
       "      <th></th>\n",
       "      <th></th>\n",
       "      <th></th>\n",
       "      <th></th>\n",
       "      <th></th>\n",
       "      <th></th>\n",
       "      <th></th>\n",
       "      <th></th>\n",
       "      <th></th>\n",
       "      <th></th>\n",
       "    </tr>\n",
       "  </thead>\n",
       "  <tbody>\n",
       "    <tr>\n",
       "      <th>414</th>\n",
       "      <td>5.0</td>\n",
       "      <td>5.0</td>\n",
       "      <td>5.0</td>\n",
       "      <td>5.0</td>\n",
       "      <td>4.0</td>\n",
       "      <td>5.0</td>\n",
       "      <td>5.000000</td>\n",
       "      <td>5.0</td>\n",
       "      <td>4.0</td>\n",
       "      <td>5.0</td>\n",
       "    </tr>\n",
       "    <tr>\n",
       "      <th>599</th>\n",
       "      <td>5.0</td>\n",
       "      <td>5.0</td>\n",
       "      <td>3.5</td>\n",
       "      <td>5.0</td>\n",
       "      <td>4.0</td>\n",
       "      <td>5.0</td>\n",
       "      <td>4.000000</td>\n",
       "      <td>3.5</td>\n",
       "      <td>3.5</td>\n",
       "      <td>5.0</td>\n",
       "    </tr>\n",
       "    <tr>\n",
       "      <th>474</th>\n",
       "      <td>4.5</td>\n",
       "      <td>4.0</td>\n",
       "      <td>3.0</td>\n",
       "      <td>5.0</td>\n",
       "      <td>4.5</td>\n",
       "      <td>4.0</td>\n",
       "      <td>3.000000</td>\n",
       "      <td>4.0</td>\n",
       "      <td>4.0</td>\n",
       "      <td>4.0</td>\n",
       "    </tr>\n",
       "    <tr>\n",
       "      <th>448</th>\n",
       "      <td>2.0</td>\n",
       "      <td>5.0</td>\n",
       "      <td>3.0</td>\n",
       "      <td>5.0</td>\n",
       "      <td>3.0</td>\n",
       "      <td>5.0</td>\n",
       "      <td>5.000000</td>\n",
       "      <td>5.0</td>\n",
       "      <td>3.0</td>\n",
       "      <td>5.0</td>\n",
       "    </tr>\n",
       "    <tr>\n",
       "      <th>274</th>\n",
       "      <td>4.0</td>\n",
       "      <td>3.0</td>\n",
       "      <td>4.5</td>\n",
       "      <td>4.5</td>\n",
       "      <td>3.5</td>\n",
       "      <td>4.0</td>\n",
       "      <td>4.000000</td>\n",
       "      <td>4.0</td>\n",
       "      <td>3.5</td>\n",
       "      <td>5.0</td>\n",
       "    </tr>\n",
       "    <tr>\n",
       "      <th>610</th>\n",
       "      <td>5.0</td>\n",
       "      <td>5.0</td>\n",
       "      <td>3.0</td>\n",
       "      <td>5.0</td>\n",
       "      <td>5.0</td>\n",
       "      <td>5.0</td>\n",
       "      <td>5.000000</td>\n",
       "      <td>5.0</td>\n",
       "      <td>3.5</td>\n",
       "      <td>5.0</td>\n",
       "    </tr>\n",
       "    <tr>\n",
       "      <th>68</th>\n",
       "      <td>4.5</td>\n",
       "      <td>5.0</td>\n",
       "      <td>3.5</td>\n",
       "      <td>5.0</td>\n",
       "      <td>3.5</td>\n",
       "      <td>5.0</td>\n",
       "      <td>3.000000</td>\n",
       "      <td>5.0</td>\n",
       "      <td>4.0</td>\n",
       "      <td>2.0</td>\n",
       "    </tr>\n",
       "    <tr>\n",
       "      <th>380</th>\n",
       "      <td>4.5</td>\n",
       "      <td>5.0</td>\n",
       "      <td>5.0</td>\n",
       "      <td>5.0</td>\n",
       "      <td>5.0</td>\n",
       "      <td>5.0</td>\n",
       "      <td>5.000000</td>\n",
       "      <td>5.0</td>\n",
       "      <td>4.0</td>\n",
       "      <td>5.0</td>\n",
       "    </tr>\n",
       "    <tr>\n",
       "      <th>606</th>\n",
       "      <td>5.0</td>\n",
       "      <td>4.5</td>\n",
       "      <td>4.0</td>\n",
       "      <td>4.5</td>\n",
       "      <td>2.5</td>\n",
       "      <td>4.5</td>\n",
       "      <td>3.761364</td>\n",
       "      <td>3.5</td>\n",
       "      <td>2.5</td>\n",
       "      <td>5.0</td>\n",
       "    </tr>\n",
       "    <tr>\n",
       "      <th>288</th>\n",
       "      <td>3.0</td>\n",
       "      <td>5.0</td>\n",
       "      <td>5.0</td>\n",
       "      <td>4.5</td>\n",
       "      <td>2.0</td>\n",
       "      <td>4.5</td>\n",
       "      <td>3.000000</td>\n",
       "      <td>5.0</td>\n",
       "      <td>1.0</td>\n",
       "      <td>5.0</td>\n",
       "    </tr>\n",
       "  </tbody>\n",
       "</table>\n",
       "</div>"
      ],
      "text/plain": [
       "movieId  2571  260  356  1196  480  1210      1036  1198  780  296\n",
       "userId                                                            \n",
       "414       5.0  5.0  5.0   5.0  4.0   5.0  5.000000   5.0  4.0  5.0\n",
       "599       5.0  5.0  3.5   5.0  4.0   5.0  4.000000   3.5  3.5  5.0\n",
       "474       4.5  4.0  3.0   5.0  4.5   4.0  3.000000   4.0  4.0  4.0\n",
       "448       2.0  5.0  3.0   5.0  3.0   5.0  5.000000   5.0  3.0  5.0\n",
       "274       4.0  3.0  4.5   4.5  3.5   4.0  4.000000   4.0  3.5  5.0\n",
       "610       5.0  5.0  3.0   5.0  5.0   5.0  5.000000   5.0  3.5  5.0\n",
       "68        4.5  5.0  3.5   5.0  3.5   5.0  3.000000   5.0  4.0  2.0\n",
       "380       4.5  5.0  5.0   5.0  5.0   5.0  5.000000   5.0  4.0  5.0\n",
       "606       5.0  4.5  4.0   4.5  2.5   4.5  3.761364   3.5  2.5  5.0\n",
       "288       3.0  5.0  5.0   4.5  2.0   4.5  3.000000   5.0  1.0  5.0"
      ]
     },
     "execution_count": 17,
     "metadata": {},
     "output_type": "execute_result"
    }
   ],
   "source": [
    "m_true.iloc[:10,:10]"
   ]
  },
  {
   "cell_type": "markdown",
   "id": "b522ae20",
   "metadata": {},
   "source": [
    "Последний полученный датафрейм -- это как бы наши \"полные данные\", в которых мне следует наделать дырок и сравнить качество работы алгоритмов. Требуется сгенерировать этот самый \"дырочный\" датафрейм. Сколько данных выбрасывать -- вопрос сложный. Очевидно, что крайности здесь плохи. Я наобум возьму долю в 20 процентов. То есть пятая часть всех данных будет удалена и я буду их восстанавливать посредством KNN и Matrix Factorization. А далее сравнивать результаты."
   ]
  },
  {
   "cell_type": "code",
   "execution_count": 18,
   "id": "0bda06b2",
   "metadata": {},
   "outputs": [],
   "source": [
    "# making nans\n",
    "m_naned = m_true.copy()\n",
    "for col in m_naned.columns:\n",
    "    m_naned.loc[m_naned.sample(frac=0.2).index, col] = np.nan"
   ]
  },
  {
   "cell_type": "markdown",
   "id": "63e689cb",
   "metadata": {},
   "source": [
    "Обещанный дырочный датафрейм:"
   ]
  },
  {
   "cell_type": "code",
   "execution_count": 19,
   "id": "7c17ce17",
   "metadata": {},
   "outputs": [
    {
     "data": {
      "text/html": [
       "<div>\n",
       "<style scoped>\n",
       "    .dataframe tbody tr th:only-of-type {\n",
       "        vertical-align: middle;\n",
       "    }\n",
       "\n",
       "    .dataframe tbody tr th {\n",
       "        vertical-align: top;\n",
       "    }\n",
       "\n",
       "    .dataframe thead th {\n",
       "        text-align: right;\n",
       "    }\n",
       "</style>\n",
       "<table border=\"1\" class=\"dataframe\">\n",
       "  <thead>\n",
       "    <tr style=\"text-align: right;\">\n",
       "      <th>movieId</th>\n",
       "      <th>2571</th>\n",
       "      <th>260</th>\n",
       "      <th>356</th>\n",
       "      <th>1196</th>\n",
       "      <th>480</th>\n",
       "      <th>1210</th>\n",
       "      <th>1036</th>\n",
       "      <th>1198</th>\n",
       "      <th>780</th>\n",
       "      <th>296</th>\n",
       "    </tr>\n",
       "    <tr>\n",
       "      <th>userId</th>\n",
       "      <th></th>\n",
       "      <th></th>\n",
       "      <th></th>\n",
       "      <th></th>\n",
       "      <th></th>\n",
       "      <th></th>\n",
       "      <th></th>\n",
       "      <th></th>\n",
       "      <th></th>\n",
       "      <th></th>\n",
       "    </tr>\n",
       "  </thead>\n",
       "  <tbody>\n",
       "    <tr>\n",
       "      <th>414</th>\n",
       "      <td>5.0</td>\n",
       "      <td>5.0</td>\n",
       "      <td>5.0</td>\n",
       "      <td>5.0</td>\n",
       "      <td>4.0</td>\n",
       "      <td>NaN</td>\n",
       "      <td>5.000000</td>\n",
       "      <td>5.0</td>\n",
       "      <td>4.0</td>\n",
       "      <td>5.0</td>\n",
       "    </tr>\n",
       "    <tr>\n",
       "      <th>599</th>\n",
       "      <td>5.0</td>\n",
       "      <td>5.0</td>\n",
       "      <td>3.5</td>\n",
       "      <td>NaN</td>\n",
       "      <td>4.0</td>\n",
       "      <td>5.0</td>\n",
       "      <td>NaN</td>\n",
       "      <td>NaN</td>\n",
       "      <td>3.5</td>\n",
       "      <td>5.0</td>\n",
       "    </tr>\n",
       "    <tr>\n",
       "      <th>474</th>\n",
       "      <td>4.5</td>\n",
       "      <td>4.0</td>\n",
       "      <td>3.0</td>\n",
       "      <td>5.0</td>\n",
       "      <td>NaN</td>\n",
       "      <td>4.0</td>\n",
       "      <td>NaN</td>\n",
       "      <td>NaN</td>\n",
       "      <td>4.0</td>\n",
       "      <td>NaN</td>\n",
       "    </tr>\n",
       "    <tr>\n",
       "      <th>448</th>\n",
       "      <td>2.0</td>\n",
       "      <td>5.0</td>\n",
       "      <td>3.0</td>\n",
       "      <td>5.0</td>\n",
       "      <td>NaN</td>\n",
       "      <td>NaN</td>\n",
       "      <td>5.000000</td>\n",
       "      <td>5.0</td>\n",
       "      <td>3.0</td>\n",
       "      <td>NaN</td>\n",
       "    </tr>\n",
       "    <tr>\n",
       "      <th>274</th>\n",
       "      <td>4.0</td>\n",
       "      <td>3.0</td>\n",
       "      <td>4.5</td>\n",
       "      <td>NaN</td>\n",
       "      <td>3.5</td>\n",
       "      <td>4.0</td>\n",
       "      <td>4.000000</td>\n",
       "      <td>4.0</td>\n",
       "      <td>3.5</td>\n",
       "      <td>5.0</td>\n",
       "    </tr>\n",
       "    <tr>\n",
       "      <th>610</th>\n",
       "      <td>5.0</td>\n",
       "      <td>5.0</td>\n",
       "      <td>3.0</td>\n",
       "      <td>5.0</td>\n",
       "      <td>5.0</td>\n",
       "      <td>NaN</td>\n",
       "      <td>5.000000</td>\n",
       "      <td>NaN</td>\n",
       "      <td>3.5</td>\n",
       "      <td>5.0</td>\n",
       "    </tr>\n",
       "    <tr>\n",
       "      <th>68</th>\n",
       "      <td>NaN</td>\n",
       "      <td>NaN</td>\n",
       "      <td>NaN</td>\n",
       "      <td>5.0</td>\n",
       "      <td>3.5</td>\n",
       "      <td>5.0</td>\n",
       "      <td>NaN</td>\n",
       "      <td>5.0</td>\n",
       "      <td>4.0</td>\n",
       "      <td>2.0</td>\n",
       "    </tr>\n",
       "    <tr>\n",
       "      <th>380</th>\n",
       "      <td>4.5</td>\n",
       "      <td>5.0</td>\n",
       "      <td>5.0</td>\n",
       "      <td>5.0</td>\n",
       "      <td>NaN</td>\n",
       "      <td>5.0</td>\n",
       "      <td>5.000000</td>\n",
       "      <td>5.0</td>\n",
       "      <td>NaN</td>\n",
       "      <td>5.0</td>\n",
       "    </tr>\n",
       "    <tr>\n",
       "      <th>606</th>\n",
       "      <td>5.0</td>\n",
       "      <td>4.5</td>\n",
       "      <td>4.0</td>\n",
       "      <td>NaN</td>\n",
       "      <td>2.5</td>\n",
       "      <td>4.5</td>\n",
       "      <td>3.761364</td>\n",
       "      <td>3.5</td>\n",
       "      <td>2.5</td>\n",
       "      <td>NaN</td>\n",
       "    </tr>\n",
       "    <tr>\n",
       "      <th>288</th>\n",
       "      <td>NaN</td>\n",
       "      <td>5.0</td>\n",
       "      <td>NaN</td>\n",
       "      <td>4.5</td>\n",
       "      <td>2.0</td>\n",
       "      <td>4.5</td>\n",
       "      <td>3.000000</td>\n",
       "      <td>5.0</td>\n",
       "      <td>NaN</td>\n",
       "      <td>NaN</td>\n",
       "    </tr>\n",
       "  </tbody>\n",
       "</table>\n",
       "</div>"
      ],
      "text/plain": [
       "movieId  2571  260  356  1196  480  1210      1036  1198  780  296\n",
       "userId                                                            \n",
       "414       5.0  5.0  5.0   5.0  4.0   NaN  5.000000   5.0  4.0  5.0\n",
       "599       5.0  5.0  3.5   NaN  4.0   5.0       NaN   NaN  3.5  5.0\n",
       "474       4.5  4.0  3.0   5.0  NaN   4.0       NaN   NaN  4.0  NaN\n",
       "448       2.0  5.0  3.0   5.0  NaN   NaN  5.000000   5.0  3.0  NaN\n",
       "274       4.0  3.0  4.5   NaN  3.5   4.0  4.000000   4.0  3.5  5.0\n",
       "610       5.0  5.0  3.0   5.0  5.0   NaN  5.000000   NaN  3.5  5.0\n",
       "68        NaN  NaN  NaN   5.0  3.5   5.0       NaN   5.0  4.0  2.0\n",
       "380       4.5  5.0  5.0   5.0  NaN   5.0  5.000000   5.0  NaN  5.0\n",
       "606       5.0  4.5  4.0   NaN  2.5   4.5  3.761364   3.5  2.5  NaN\n",
       "288       NaN  5.0  NaN   4.5  2.0   4.5  3.000000   5.0  NaN  NaN"
      ]
     },
     "execution_count": 19,
     "metadata": {},
     "output_type": "execute_result"
    }
   ],
   "source": [
    "m_naned.iloc[:10,:10]"
   ]
  },
  {
   "cell_type": "code",
   "execution_count": 20,
   "id": "03808bbf",
   "metadata": {},
   "outputs": [
    {
     "name": "stdout",
     "output_type": "stream",
     "text": [
      "proportion of missing values 0.2\n"
     ]
    }
   ],
   "source": [
    "#propotion of missing values\n",
    "print('proportion of missing values', m_naned.isna().sum().sum() / (m_naned.shape[0]*m_naned.shape[1]))"
   ]
  },
  {
   "cell_type": "markdown",
   "id": "ad323b94",
   "metadata": {},
   "source": [
    "## Comparison"
   ]
  },
  {
   "cell_type": "markdown",
   "id": "be0782ee",
   "metadata": {},
   "source": [
    "### KNN"
   ]
  },
  {
   "cell_type": "markdown",
   "id": "591692f6",
   "metadata": {},
   "source": [
    "Ниже будет написана функция, которая прогоняет нановский датасет через алгоритм KNN. Прогоняет она его несколько раз, каждый раз используя различное значение соседей. На каждой иттерации считается rmse ошибка. Ошибка в зависимости от числа соседей плотается."
   ]
  },
  {
   "cell_type": "code",
   "execution_count": 21,
   "id": "13e68f08",
   "metadata": {},
   "outputs": [],
   "source": [
    "from typing import List\n",
    "from sklearn.impute import KNNImputer\n",
    "from sklearn.metrics import mean_squared_error as mse\n",
    "import matplotlib.pyplot as plt\n",
    "\n",
    "    \n",
    "def KNN_res(m_naned: pd.DataFrame, m_true: pd.DataFrame, n: List[int]) -> int:\n",
    "    \n",
    "    '''\n",
    "    m_naned - датафрейм с дырками, который KNN будет заполнять\n",
    "    m_true - исходный правильный датафрейм, от которого будет считаться отклонение в терминах rmse\n",
    "    n - список значений для параметра \"число соседей\"\n",
    "    \n",
    "    Функция для каждого значения из n пытается восстановить KNN'ом m_naned до m_true и считает ошибку,\n",
    "    которая у нее вышла. Далее по массиву полученных ошибок и массиву n плотает результат.\n",
    "    Также она возвращает оптимальное количество сосейдей в методе KNN\n",
    "    '''\n",
    "    \n",
    "    # array of errors\n",
    "    err = []\n",
    "    \n",
    "    # cycle for n:\n",
    "    for k in n:\n",
    "        \n",
    "        # knn by itself\n",
    "        imputer = KNNImputer(n_neighbors=k)\n",
    "        \n",
    "        # filling nans\n",
    "        res = imputer.fit_transform(m_naned)\n",
    "        \n",
    "        # creating dataframe of previos result\n",
    "        m_restored = pd.DataFrame(res, index = m_true.index, columns = m_true.columns)\n",
    "        \n",
    "        # counting rmse\n",
    "        err += [np.sqrt(mse(m_restored, m_true))]\n",
    "        \n",
    "    # plotting\n",
    "    plt.figure(figsize=(10, 6), dpi=80)\n",
    "    plt.plot(n, err, label = 'rmse', linewidth = 2)\n",
    "    plt.grid()\n",
    "    plt.xlabel('nearest neighbors')\n",
    "    plt.ylabel('rmse for KNN')\n",
    "    plt.legend()\n",
    "    plt.show()\n",
    "    \n",
    "    # return optimal number of neighbours\n",
    "    return err.index(min(err)) + 1"
   ]
  },
  {
   "cell_type": "code",
   "execution_count": 22,
   "id": "49243319",
   "metadata": {},
   "outputs": [
    {
     "data": {
      "image/png": "[encoded data removed]",
      "text/plain": [
       "<Figure size 800x480 with 1 Axes>"
      ]
     },
     "metadata": {
      "needs_background": "light"
     },
     "output_type": "display_data"
    }
   ],
   "source": [
    "nn = KNN_res(m_naned, m_true, np.arange(1,30))"
   ]
  },
  {
   "cell_type": "markdown",
   "id": "f56e1c1f",
   "metadata": {},
   "source": [
    "Видим, где находится оптимум. Вывожу rmse для оптимума."
   ]
  },
  {
   "cell_type": "code",
   "execution_count": 23,
   "id": "8aa0b219",
   "metadata": {},
   "outputs": [
    {
     "name": "stdout",
     "output_type": "stream",
     "text": [
      "with 6 nearest neighbors rmse =  0.31554334775720544\n"
     ]
    }
   ],
   "source": [
    "# repeating pipeline\n",
    "\n",
    "res = KNNImputer(n_neighbors = nn).fit_transform(m_naned)\n",
    "m_restored = pd.DataFrame(res, index = m_true.index, columns = m_true.columns)\n",
    "print(f'with {nn} nearest neighbors rmse = ', np.sqrt(mse(m_restored, m_true)))"
   ]
  },
  {
   "cell_type": "markdown",
   "id": "e5e366c3",
   "metadata": {},
   "source": [
    "### Matrix Factorization"
   ]
  },
  {
   "cell_type": "markdown",
   "id": "eed257bd",
   "metadata": {},
   "source": [
    "Существуют различные модули, которые посредством матричных разложений решают оптимизационную задачу и справляются с восстановлением отсутсвующих значений. Происходит приближение матрицей меньшего ранга. Отличитаельная особенность -- необходимо пустые значения заполнять чем-то. Все рекомендации в документации отсылают к заполнению нулями.\n",
    "\n",
    "Ниже реализована функция, которая перебирает параметры алгоритма подбора матрицы, которая заполняет нули чем-то. Я использовал модуль nimfa"
   ]
  },
  {
   "cell_type": "code",
   "execution_count": 24,
   "id": "8bb9764e",
   "metadata": {},
   "outputs": [],
   "source": [
    "import scipy.sparse as spr\n",
    "import nimfa\n",
    "\n",
    "# filling nans by zeros\n",
    "\n",
    "\n",
    "def NMF_res(m_naned: pd.DataFrame, m_true: pd.DataFrame, ranks: List[int]) -> int:\n",
    "    \n",
    "    '''\n",
    "    m_naned - датафрейм с nan'ами, который NMF будет заполнять\n",
    "    m_true - исходный правильный датафрейм, от которого будет считаться отклонение в терминах rmse\n",
    "    ranks - список значений для параметра \"ранг приближения\"\n",
    "    \n",
    "    Функция для каждого значения из ranks пытается восстановить NMF'ом m_zeroed до m_true и считает ошибку,\n",
    "    которая у нее вышла. Далее по массиву полученных ошибок и массиву n плотает результат.\n",
    "    Также она возвращает оптимальный параметр ранга\n",
    "    '''\n",
    "    \n",
    "    # array of errors\n",
    "    err = []\n",
    "    \n",
    "    # cycle for ranks:\n",
    "    for r in ranks:\n",
    "        \n",
    "        # matrix with zeros\n",
    "        m_zeroed = spr.csr_matrix(m_naned.fillna(0).values)\n",
    "        \n",
    "        # creating matrix factorizaion class object\n",
    "        nmf = nimfa.Nmf(m_zeroed, max_iter=200, rank=r, update='euclidean', objective='fro')\n",
    "        nmf_fit = nmf()\n",
    "\n",
    "        # factors by itself\n",
    "        A = nmf_fit.basis()\n",
    "        B = nmf_fit.coef()\n",
    "\n",
    "        # restoring original matrix\n",
    "        m_zeroed = np.dot(A.todense(),B.todense())\n",
    "        \n",
    "        # creating dataframe of previos result\n",
    "        m_restored = pd.DataFrame(m_zeroed, index = m_true.index, columns = m_true.columns)\n",
    "        \n",
    "        # counting rmse\n",
    "        err += [np.sqrt(mse(m_restored, m_true))]\n",
    "        \n",
    "    # plotting\n",
    "    plt.figure(figsize=(10, 6), dpi=80)\n",
    "    plt.plot(ranks, err, label = 'rmse', linewidth = 2)\n",
    "    plt.grid()\n",
    "    plt.xlabel('nimfa factorization machine')\n",
    "    plt.ylabel('FM rmse')\n",
    "    plt.legend()\n",
    "    plt.show()\n",
    "    \n",
    "    # return optimal number of neighbours\n",
    "    return err.index(min(err)) + 1"
   ]
  },
  {
   "cell_type": "code",
   "execution_count": 25,
   "id": "88568794",
   "metadata": {},
   "outputs": [
    {
     "data": {
      "image/png": "[encoded data removed]",
      "text/plain": [
       "<Figure size 800x480 with 1 Axes>"
      ]
     },
     "metadata": {
      "needs_background": "light"
     },
     "output_type": "display_data"
    }
   ],
   "source": [
    "r = NMF_res(m_naned, m_true, np.arange(1,50))"
   ]
  },
  {
   "cell_type": "markdown",
   "id": "f242bda8",
   "metadata": {},
   "source": [
    "Видим, где находится оптимум. Вывожу rmse для оптимума."
   ]
  },
  {
   "cell_type": "code",
   "execution_count": 26,
   "id": "5ad8800e",
   "metadata": {},
   "outputs": [
    {
     "name": "stdout",
     "output_type": "stream",
     "text": [
      "with rank = 11 we have rmse =  1.342899327547525\n"
     ]
    }
   ],
   "source": [
    "# repeating pipline\n",
    "\n",
    "m_zeroed = spr.csr_matrix(m_naned.fillna(0).values)\n",
    "nmf = nimfa.Nmf(m_zeroed, max_iter=200, rank=r, update='euclidean', objective='fro')\n",
    "nmf_fit = nmf()\n",
    "A = nmf_fit.basis()\n",
    "B = nmf_fit.coef()\n",
    "m_zeroed = np.dot(A.todense(),B.todense())\n",
    "m_restored = pd.DataFrame(m_zeroed, index = m_true.index, columns = m_true.columns)\n",
    "print(f'with rank = {r} we have rmse = ', np.sqrt(mse(m_restored, m_true)))"
   ]
  },
  {
   "cell_type": "markdown",
   "id": "83db11b4",
   "metadata": {},
   "source": [
    "Сравнивая с предыдущим результатом, понимаем, что KNN показал себя лучше в данной ситуации."
   ]
  },
  {
   "cell_type": "markdown",
   "id": "578febf8",
   "metadata": {},
   "source": [
    "# Content-based\n",
    "## Comparison\n",
    "### TFIDF"
   ]
  },
  {
   "cell_type": "markdown",
   "id": "4c812d4e",
   "metadata": {},
   "source": [
    "Я векторизирую всю текстовую информацию, относящуюся к фильмам. И заполню nan'ы численными значениями ближайших векторов.\n",
    "Для начала вытащим из датафреймов всю необходимую информацию. К сожалению, значения movieId для датафреймов movies и tags местами не совпадают, поэтому я буду использовать информацию только из датафрейма movies."
   ]
  },
  {
   "cell_type": "code",
   "execution_count": 27,
   "id": "79ba294a",
   "metadata": {},
   "outputs": [],
   "source": [
    "import nltk\n",
    "from sklearn.feature_extraction.text import TfidfVectorizer\n",
    "\n",
    "def create_dict_tfidf():\n",
    "    \n",
    "    '''\n",
    "    Функция создает словарь, где ключем является Id фильма из m_naned, а значением \n",
    "    векторное предстваление ему сопутствующего контента в tfidf\n",
    "    '''\n",
    "    \n",
    "    # movies ids\n",
    "    Ids = m_naned.columns.to_numpy()\n",
    "    \n",
    "    # list of strings that represents content for each movie\n",
    "    contents = []\n",
    "    \n",
    "    for Id in Ids:\n",
    "    \n",
    "        # string of content for a single movie \n",
    "        content = ''\n",
    "    \n",
    "        # add title info\n",
    "        content += movies[movies.movieId == Id].title.to_numpy()[0].replace(\"(\", \" \").replace(\")\", \" \")\n",
    "    \n",
    "        # add genre info\n",
    "        content += movies[movies.movieId == Id].genres.to_numpy()[0].replace(\"|\", \" \")\n",
    "    \n",
    "        # list of words for movie content\n",
    "        words = nltk.word_tokenize(content)\n",
    "        \n",
    "        # remove bad symbols\n",
    "        for word in words:\n",
    "            if not word.isalpha():\n",
    "                words.remove(word)\n",
    "        \n",
    "        # creating sentence from list of this words\n",
    "        words = ' '.join(words)\n",
    "        contents += [words]\n",
    "    \n",
    "    # tfidf\n",
    "    vectorizer = TfidfVectorizer()\n",
    "    tfidf_vectors = vectorizer.fit_transform(contents).todense()\n",
    "    \n",
    "    #creating dict where key = id and value = vector\n",
    "    tfidf_dict = {}\n",
    "    \n",
    "    for x in range(len(Ids)):\n",
    "        tfidf_dict[Ids[x]] = np.array(tfidf_vectors[x])[0]\n",
    "        \n",
    "    return tfidf_dict"
   ]
  },
  {
   "cell_type": "code",
   "execution_count": 28,
   "id": "35769621",
   "metadata": {},
   "outputs": [],
   "source": [
    "# vectorizing\n",
    "tfidf_dict = create_dict_tfidf()"
   ]
  },
  {
   "cell_type": "code",
   "execution_count": 29,
   "id": "c1551904",
   "metadata": {},
   "outputs": [],
   "source": [
    "from sklearn.metrics.pairwise import cosine_similarity\n",
    "def restore_by_contnet_based() -> pd.DataFrame:\n",
    "    \n",
    "    '''\n",
    "    Функция возвращает заполненный датафрейм на основе выше озувеченного\n",
    "    content-based подхода\n",
    "    '''\n",
    "    \n",
    "    # for each column (film)\n",
    "    for col in m_naned.columns:\n",
    "        \n",
    "        # dict of nearest by tfidf other films\n",
    "        \n",
    "        dist = {}\n",
    "        \n",
    "        for film_id in tfidf_dict.keys():\n",
    "            \n",
    "            # distance between these objects\n",
    "            current_film = np.array([tfidf_dict[col]])\n",
    "            \n",
    "            iter_film = np.array([tfidf_dict[film_id]])\n",
    "            \n",
    "            dist[film_id] = cosine_similarity(current_film, iter_film)[0][0]\n",
    "            \n",
    "        # sort by distance\n",
    "        dist = dict(sorted(dist.items(), key=lambda dist: dist[1], reverse=True))\n",
    "            \n",
    "        # remove current film\n",
    "        dist.pop(col)\n",
    "            \n",
    "        # filling nans in current col\n",
    "        for film_id in dist.keys():\n",
    "                \n",
    "            # id of users that didn't see this film\n",
    "            user_id = m_naned[col][m_naned[col].isna() == True].index.to_numpy()\n",
    "            \n",
    "            # stop when its done\n",
    "            if len(user_id) == 0:\n",
    "                break\n",
    "        \n",
    "            m_naned[col][user_id] = m_naned[film_id][user_id]\n",
    "            \n",
    "    return m_naned"
   ]
  },
  {
   "cell_type": "markdown",
   "id": "acc54c80",
   "metadata": {},
   "source": [
    "Заполним матрицу и посчитаем rmse:"
   ]
  },
  {
   "cell_type": "code",
   "execution_count": 30,
   "id": "aae1b7c2",
   "metadata": {},
   "outputs": [
    {
     "name": "stdout",
     "output_type": "stream",
     "text": [
      "tfidf_rmse = 0.4475879659705368\n"
     ]
    }
   ],
   "source": [
    "restored_tfidf = restore_by_contnet_based()\n",
    "print('tfidf_rmse =',np.sqrt(mse(restored_tfidf, m_true)))"
   ]
  },
  {
   "cell_type": "markdown",
   "id": "707073c3",
   "metadata": {},
   "source": [
    "Как видим, content-based подход не так уж плох. На таком небольшом сэмпле он оказался лучше, чем MatrixFactorization и чуть не дотянул до KNN. Хочу заявить, что согласно этому мини-ресерчу KNN как самый точный, так и самый быстрый алгоритм. Он и будет имплементирован."
   ]
  }
 ],
 "metadata": {
  "kernelspec": {
   "display_name": "Python 3 (ipykernel)",
   "language": "python",
   "name": "python3"
  },
  "language_info": {
   "codemirror_mode": {
    "name": "ipython",
    "version": 3
   },
   "file_extension": ".py",
   "mimetype": "text/x-python",
   "name": "python",
   "nbconvert_exporter": "python",
   "pygments_lexer": "ipython3",
   "version": "3.9.7"
  }
 },
 "nbformat": 4,
 "nbformat_minor": 5
}
